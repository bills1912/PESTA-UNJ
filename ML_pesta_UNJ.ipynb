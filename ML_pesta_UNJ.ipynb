{
 "cells": [
  {
   "cell_type": "code",
   "execution_count": null,
   "source": [
    "import pandas as pd\r\n",
    "import numpy as np\r\n",
    "import matplotlib.pyplot as plt\r\n",
    "import seaborn as sns\r\n",
    "from sklearn.preprocessing import MinMaxScaler, StandardScaler, PowerTransformer, QuantileTransformer, RobustScaler\r\n",
    "from sklearn.feature_selection import SelectKBest, chi2\r\n",
    "from sklearn.model_selection import GridSearchCV\r\n",
    "from sklearn.pipeline import Pipeline"
   ],
   "outputs": [],
   "metadata": {}
  },
  {
   "cell_type": "code",
   "execution_count": null,
   "source": [
    "training = pd.read_csv('train.csv')\r\n",
    "testing = pd.read_csv('test.csv')"
   ],
   "outputs": [],
   "metadata": {}
  },
  {
   "cell_type": "code",
   "execution_count": null,
   "source": [
    "print(\"Size of training dataset:\",training.shape)\r\n",
    "print(\"Size of testing dataset:\",testing.shape)"
   ],
   "outputs": [],
   "metadata": {}
  },
  {
   "cell_type": "code",
   "execution_count": null,
   "source": [
    "print('Training dataset:\\n', training.describe(include='all'))"
   ],
   "outputs": [],
   "metadata": {}
  },
  {
   "cell_type": "code",
   "execution_count": null,
   "source": [
    "print('Testing dataset:\\n', testing.describe(include='all'))"
   ],
   "outputs": [],
   "metadata": {}
  },
  {
   "cell_type": "code",
   "execution_count": null,
   "source": [
    "plt.figure()\r\n",
    "sns.boxplot(x=training['KetebalanKulit'])\r\n",
    "plt.show()\r\n",
    "\r\n",
    "plt.figure()\r\n",
    "sns.boxplot(x=training['Insulin'])\r\n",
    "plt.show()\r\n",
    "\r\n",
    "plt.figure()\r\n",
    "sns.boxplot(x=training['Glukosa'])\r\n",
    "plt.show()\r\n",
    "\r\n",
    "plt.figure()\r\n",
    "sns.boxplot(x=training['TekananDarah'])\r\n",
    "plt.show()\r\n",
    "\r\n",
    "plt.figure()\r\n",
    "sns.boxplot(x=training['IMT'])\r\n",
    "plt.show()"
   ],
   "outputs": [],
   "metadata": {}
  },
  {
   "cell_type": "code",
   "execution_count": null,
   "source": [
    "plt.figure()\r\n",
    "sns.boxplot(x=testing['KetebalanKulit'])\r\n",
    "plt.show()\r\n",
    "\r\n",
    "plt.figure()\r\n",
    "sns.boxplot(x=testing['Insulin'])\r\n",
    "plt.show()\r\n",
    "\r\n",
    "plt.figure()\r\n",
    "sns.boxplot(x=testing['Glukosa'])\r\n",
    "plt.show()\r\n",
    "\r\n",
    "plt.figure()\r\n",
    "sns.boxplot(x=testing['TekananDarah'])\r\n",
    "plt.show()\r\n",
    "\r\n",
    "plt.figure()\r\n",
    "sns.boxplot(x=testing['IMT'])\r\n",
    "plt.show()"
   ],
   "outputs": [],
   "metadata": {}
  },
  {
   "cell_type": "code",
   "execution_count": null,
   "source": [
    "# Fill the zero value in training dataset with MEDIAN\r\n",
    "training['Glukosa'] = training['Glukosa'].replace([0], training['Glukosa'].median())\r\n",
    "training['TekananDarah'] = training['TekananDarah'].replace([0], training['TekananDarah'].median())\r\n",
    "training['KetebalanKulit'] = training['KetebalanKulit'].replace([0], training['KetebalanKulit'].median())\r\n",
    "training['Insulin'] = training['Insulin'].replace([0], training['Insulin'].median())\r\n",
    "training['IMT'] = training['IMT'].replace([0], training['IMT'].median())"
   ],
   "outputs": [],
   "metadata": {}
  },
  {
   "cell_type": "code",
   "execution_count": null,
   "source": [
    "# Fill the zero value in testing dataset with MEDIAN\r\n",
    "testing['Glukosa'] = testing['Glukosa'].replace([0], testing['Glukosa'].median())\r\n",
    "testing['TekananDarah'] = testing['TekananDarah'].replace([0], testing['TekananDarah'].median())\r\n",
    "testing['KetebalanKulit'] = testing['KetebalanKulit'].replace([0], testing['KetebalanKulit'].median())\r\n",
    "testing['Insulin'] = testing['Insulin'].replace([0], testing['Insulin'].median())\r\n",
    "testing['IMT'] = testing['IMT'].replace([0], testing['IMT'].median())"
   ],
   "outputs": [],
   "metadata": {}
  },
  {
   "cell_type": "code",
   "execution_count": null,
   "source": [
    "Q1 = training[['Glukosa','TekananDarah','KetebalanKulit','Insulin']].quantile(0.25)\r\n",
    "Q3 = training[['Glukosa','TekananDarah','KetebalanKulit','Insulin']].quantile(0.75)\r\n",
    "\r\n",
    "IQR = Q3 - Q1\r\n",
    "\r\n",
    "max_val = Q3 + (1.5 * IQR)\r\n",
    "min_val = Q1 - (1.5 * IQR)\r\n",
    "\r\n",
    "upper_bound = (training > max_val)\r\n",
    "lower_bound = (training < min_val)\r\n",
    "\r\n",
    "train_clean = training.mask(upper_bound, max_val, axis=1)\r\n",
    "train_clean = train_clean.mask(lower_bound, min_val, axis=1)"
   ],
   "outputs": [],
   "metadata": {}
  },
  {
   "cell_type": "code",
   "execution_count": null,
   "source": [
    "plt.figure()\r\n",
    "sns.boxplot(x=train_clean['KetebalanKulit'])\r\n",
    "plt.show()\r\n",
    "\r\n",
    "plt.figure()\r\n",
    "sns.boxplot(x=train_clean['Insulin'])\r\n",
    "plt.show()"
   ],
   "outputs": [],
   "metadata": {}
  },
  {
   "cell_type": "code",
   "execution_count": null,
   "source": [
    "plt.figure(figsize=(20, 30))\r\n",
    "for i, cols in enumerate(train_clean.columns):\r\n",
    "    ax = plt.subplot(9, 3, i+1)\r\n",
    "    sns.kdeplot(x=train_clean[cols])\r\n",
    "plt.show()"
   ],
   "outputs": [],
   "metadata": {}
  },
  {
   "cell_type": "code",
   "execution_count": null,
   "source": [
    "print('Size of training dataset after removing outliers:', train_clean.shape)"
   ],
   "outputs": [],
   "metadata": {}
  },
  {
   "cell_type": "code",
   "execution_count": null,
   "source": [
    "plt.figure(figsize=(13, 8))\r\n",
    "sns.heatmap(train_clean.corr(method='spearman'), annot=True)\r\n",
    "plt.show()"
   ],
   "outputs": [],
   "metadata": {}
  },
  {
   "cell_type": "code",
   "execution_count": null,
   "source": [
    "X_training = train_clean.drop('Target', axis=1)\r\n",
    "y_training = train_clean['Target']"
   ],
   "outputs": [],
   "metadata": {}
  },
  {
   "cell_type": "code",
   "execution_count": null,
   "source": [
    "from sklearn.model_selection import train_test_split\r\n",
    "\r\n",
    "X_train, X_test, y_train, y_test = train_test_split(X_training,\r\n",
    "                                                    y_training,\r\n",
    "                                                    test_size=0.2,\r\n",
    "                                                    random_state=0)"
   ],
   "outputs": [],
   "metadata": {}
  },
  {
   "cell_type": "code",
   "execution_count": null,
   "source": [
    "from sklearn.tree import DecisionTreeClassifier\r\n",
    "\r\n",
    "dtc = DecisionTreeClassifier()\r\n",
    "dtc.get_params()"
   ],
   "outputs": [],
   "metadata": {}
  },
  {
   "cell_type": "code",
   "execution_count": null,
   "source": [
    "grid = GridSearchCV(dtc, param_grid=dict(\r\n",
    "                                        ccp_alpha=np.linspace(0, 10, 10),\r\n",
    "                                        criterion=['gini', 'entropy']))\r\n",
    "pipe = Pipeline([('scaler', StandardScaler()),\r\n",
    "                 ('cv', grid)])\r\n",
    "model = pipe.fit(X_train, y_train)"
   ],
   "outputs": [],
   "metadata": {}
  },
  {
   "cell_type": "code",
   "execution_count": null,
   "source": [
    "from sklearn.ensemble import RandomForestClassifier, GradientBoostingClassifier, AdaBoostClassifier, ExtraTreesClassifier\r\n",
    "\r\n",
    "rfc = RandomForestClassifier(n_jobs=3)\r\n",
    "rfc.get_params()"
   ],
   "outputs": [],
   "metadata": {}
  },
  {
   "cell_type": "code",
   "execution_count": null,
   "source": [
    "grid = GridSearchCV(rfc, param_grid=dict(\r\n",
    "                                        ccp_alpha=np.linspace(0, 10, 10),\r\n",
    "                                        criterion=['gini', 'entropy'],\r\n",
    "                                        n_jobs=[1, 2, 3]),\r\n",
    "                                        n_jobs=-1)\r\n",
    "pipe = Pipeline([('scaler', StandardScaler()),\r\n",
    "                 ('cv', grid)])\r\n",
    "model = pipe.fit(X_train, y_train)"
   ],
   "outputs": [],
   "metadata": {}
  },
  {
   "cell_type": "code",
   "execution_count": null,
   "source": [
    "gradient = GradientBoostingClassifier()\r\n",
    "gradient.get_params()"
   ],
   "outputs": [],
   "metadata": {}
  },
  {
   "cell_type": "code",
   "execution_count": null,
   "source": [
    "grid = GridSearchCV(gradient, param_grid=dict(\r\n",
    "                                        ccp_alpha=np.linspace(0, 10, 10),\r\n",
    "                                        criterion=['friedman_mse', 'mse', 'mae'],\r\n",
    "                                        learning_rate=[1.0]),\r\n",
    "                                        n_jobs=-1)\r\n",
    "pipe = Pipeline([('scaler', StandardScaler()),\r\n",
    "                 ('cv', grid)])\r\n",
    "model = pipe.fit(X_train, y_train)"
   ],
   "outputs": [],
   "metadata": {}
  },
  {
   "cell_type": "code",
   "execution_count": null,
   "source": [
    "ada_boost = AdaBoostClassifier()\r\n",
    "ada_boost.get_params()"
   ],
   "outputs": [],
   "metadata": {}
  },
  {
   "cell_type": "code",
   "execution_count": null,
   "source": [
    "pipe = Pipeline([('scaler', StandardScaler()),\r\n",
    "                 ('model', ada_boost)])\r\n",
    "model = pipe.fit(X_train, y_train)"
   ],
   "outputs": [],
   "metadata": {}
  },
  {
   "cell_type": "code",
   "execution_count": null,
   "source": [
    "ex_tree = ExtraTreesClassifier()\r\n",
    "ex_tree.get_params()"
   ],
   "outputs": [],
   "metadata": {}
  },
  {
   "cell_type": "code",
   "execution_count": null,
   "source": [
    "grid = GridSearchCV(ex_tree, param_grid=dict(\r\n",
    "                                            ccp_alpha=np.linspace(1, 10, 10),\r\n",
    "                                            criterion=['gini', 'entropy'],\r\n",
    "                                            n_estimators=[10, 100, 1000]\r\n",
    "), n_jobs=-1)\r\n",
    "pipe = Pipeline([('scaler', StandardScaler()),\r\n",
    "                 ('cv', grid)])\r\n",
    "model = pipe.fit(X_train, y_train)"
   ],
   "outputs": [],
   "metadata": {}
  },
  {
   "cell_type": "code",
   "execution_count": null,
   "source": [
    "predict = model.predict(X_test)"
   ],
   "outputs": [],
   "metadata": {}
  },
  {
   "cell_type": "code",
   "execution_count": null,
   "source": [
    "from sklearn.metrics import accuracy_score\r\n",
    "\r\n",
    "acc = accuracy_score(predict, y_test)\r\n",
    "print(\"Model score: {}\".format(acc))"
   ],
   "outputs": [],
   "metadata": {}
  },
  {
   "cell_type": "code",
   "execution_count": null,
   "source": [
    "finale_pred = model.predict(testing.drop('index', axis=1))"
   ],
   "outputs": [],
   "metadata": {}
  },
  {
   "cell_type": "code",
   "execution_count": null,
   "source": [
    "hasil = pd.DataFrame()\r\n",
    "hasil['index'] = testing['index']\r\n",
    "hasil['Target'] = finale_pred"
   ],
   "outputs": [],
   "metadata": {}
  },
  {
   "cell_type": "code",
   "execution_count": null,
   "source": [
    "hasil.to_csv(\"HASIL.csv\",  index=False)"
   ],
   "outputs": [],
   "metadata": {}
  }
 ],
 "metadata": {
  "orig_nbformat": 4,
  "language_info": {
   "name": "python",
   "version": "3.8.2",
   "mimetype": "text/x-python",
   "codemirror_mode": {
    "name": "ipython",
    "version": 3
   },
   "pygments_lexer": "ipython3",
   "nbconvert_exporter": "python",
   "file_extension": ".py"
  },
  "kernelspec": {
   "name": "python3",
   "display_name": "Python 3.8.2 64-bit"
  },
  "interpreter": {
   "hash": "f23faf4bfe871c203c8bec80520af5927fc7cb1ae3bd834ddf554ee587ad1c05"
  }
 },
 "nbformat": 4,
 "nbformat_minor": 2
}